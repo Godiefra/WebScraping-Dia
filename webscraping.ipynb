{
 "cells": [
  {
   "cell_type": "code",
   "execution_count": 1,
   "metadata": {},
   "outputs": [
    {
     "name": "stderr",
     "output_type": "stream",
     "text": [
      "c:\\Users\\diego\\anaconda3\\Lib\\site-packages\\pandas\\core\\arrays\\masked.py:60: UserWarning: Pandas requires version '1.3.6' or newer of 'bottleneck' (version '1.3.5' currently installed).\n",
      "  from pandas.core import (\n"
     ]
    }
   ],
   "source": [
    "import pandas as pd\n",
    "import sys\n",
    "import time\n",
    "sys.path.insert(0,'/usr/lib/chromium-browser/chromedriver')\n"
   ]
  },
  {
   "cell_type": "code",
   "execution_count": 9,
   "metadata": {},
   "outputs": [],
   "source": [
    "from selenium import webdriver\n",
    "from selenium.webdriver.chrome.service import Service\n",
    "from selenium.webdriver.common.by import By\n",
    "\n",
    "service = Service(r\"chromedriver-win64/chromedriver.exe\")\n",
    "options = webdriver.ChromeOptions()\n",
    "driver = webdriver.Chrome(service=service, options=options)\n",
    "\n",
    "url = \"https://www.dia.es/charcuteria-y-quesos/jamon-cocido-lacon-fiambres-y-mortadela/c/L2001\"\n",
    "\n",
    "driver.get(url)"
   ]
  },
  {
   "cell_type": "markdown",
   "metadata": {},
   "source": [
    "### Estructura XPATH para los card de los productos"
   ]
  },
  {
   "cell_type": "markdown",
   "metadata": {},
   "source": [
    "//*[@id=\"app\"]/div/div/div[2]/div[2]/div[1]/div[3]/div/div/ul/li[1]/div/div[1]/div[2]/a[2]/p\n",
    "\n",
    "//*[@id=\"app\"]/div/div/div[2]/div[2]/div[1]/div[3]/div/div/ul/li[2]/div/div[1]/div[2]/a[2]/p"
   ]
  },
  {
   "cell_type": "markdown",
   "metadata": {},
   "source": [
    "//*[@id=\"app\"]/div/div/div[2]/div[2]/div[1]/div[3]/div[1]/div/ul/li[1]/div/div[2]/div[2]/p[1]\n",
    "\n",
    "//*[@id=\"app\"]/div/div/div[2]/div[2]/div[1]/div[3]/div[1]/div/ul/li[2]/div/div[2]/div[2]/p[1]\n",
    "\n",
    "\n",
    "//*[@id=\"app\"]/div/div/div[2]/div[2]/div[1]/div[3]/div/div/ul/li[57]/div/div[2]/div[2]/p[1]"
   ]
  },
  {
   "cell_type": "code",
   "execution_count": 22,
   "metadata": {},
   "outputs": [],
   "source": [
    "names = []\n",
    "prices = []\n",
    "\n",
    "for i in range (1,30):\n",
    "    try:\n",
    "        product_name = driver.find_element(By.XPATH, f'//*[@id=\"app\"]/div/div/div[2]/div[2]/div[1]/div[3]/div/div/ul/li[{i}]/div/div[1]/div[2]/a[2]/p').text\n",
    "        product_price = driver.find_element(By.XPATH, f'//*[@id=\"app\"]/div/div/div[2]/div[2]/div[1]/div[3]/div[1]/div/ul/li[{i}]/div/div[2]/div[2]/p[1]').text\n",
    "        names.append(product_name)\n",
    "        prices.append(product_price)\n",
    "    except:\n",
    "     continue"
   ]
  },
  {
   "cell_type": "code",
   "execution_count": 23,
   "metadata": {},
   "outputs": [
    {
     "data": {
      "text/plain": [
       "['Bacon en tiras Nuestra Alacena de Dia bandeja 2 x 100 g',\n",
       " 'Jamón cocido extra bajo en sal Nuestra Alacena de Dia sobre 200 g',\n",
       " 'Pechuga de pavo Nuestra Alacena de Dia sobre 2 x 200 g',\n",
       " 'Jamón cocido extra Nuestra Alacena de Dia sobre 2 x 225 g',\n",
       " 'Jamón cocido extra 97% carne Nuestra Alacena de Dia sobre 150 g',\n",
       " 'Bacon en lonchas Nuestra Alacena de Dia sobre 200 g',\n",
       " 'Pechuga de pavo braseado Campofrío sobre 75 g',\n",
       " 'Mortadela con aceitunas Nuestra Alacena de Dia sobre 250 g',\n",
       " 'Jamón cocido extra Elpozo 1954 sobre 150 g',\n",
       " 'Pechuga de pavo bajo en sal Nuestra Alacena de Dia sobre 200 g',\n",
       " 'Lacón ahumado Nuestra Alacena de Dia sobre 150 g',\n",
       " 'Pechuga de pavo 90% carne Nuestra Alacena de Dia sobre 120 g',\n",
       " 'Jamón de pavo Nuestra Alacena de Dia sobre 200 g',\n",
       " 'Mortadela Nuestra Alacena de Dia sobre 250 g',\n",
       " 'Pechuga de pavo Elpozo sobre 80 g',\n",
       " 'Fiambre de york Elpozo sobre 300 g',\n",
       " 'Pechuga de pollo braseado Nuestra Alacena de Dia sobre 200 g',\n",
       " 'Jamón cocido Elpozo sobre 80 g',\n",
       " 'Chopped pork Nuestra Alacena de Dia sobre 250 g',\n",
       " 'Cabeza de jabalí Nuestra Alacena de Dia sobre 150 g']"
      ]
     },
     "execution_count": 23,
     "metadata": {},
     "output_type": "execute_result"
    }
   ],
   "source": [
    "names"
   ]
  },
  {
   "cell_type": "code",
   "execution_count": 24,
   "metadata": {},
   "outputs": [
    {
     "data": {
      "text/plain": [
       "['1,76 €',\n",
       " '1,99 €',\n",
       " '3,30 €',\n",
       " '3,45 €',\n",
       " '1,99 €',\n",
       " '1,99 €',\n",
       " '1,00 €',\n",
       " '1,25 €',\n",
       " '2,00 €',\n",
       " '1,87 €',\n",
       " '1,79 €',\n",
       " '2,19 €',\n",
       " '1,48 €',\n",
       " '1,25 €',\n",
       " '1,00 €',\n",
       " '2,00 €',\n",
       " '2,15 €',\n",
       " '1,00 €',\n",
       " '1,39 €',\n",
       " '1,69 €']"
      ]
     },
     "execution_count": 24,
     "metadata": {},
     "output_type": "execute_result"
    }
   ],
   "source": [
    "prices"
   ]
  },
  {
   "cell_type": "code",
   "execution_count": 51,
   "metadata": {},
   "outputs": [
    {
     "data": {
      "text/plain": [
       "10"
      ]
     },
     "execution_count": 51,
     "metadata": {},
     "output_type": "execute_result"
    }
   ],
   "source": [
    "prices_selenium = driver.find_elements(By.CSS_SELECTOR, \"[data-test-id='search-product-card-unit-price']\")\n",
    "len(prices_selenium)"
   ]
  },
  {
   "cell_type": "code",
   "execution_count": 48,
   "metadata": {},
   "outputs": [
    {
     "name": "stdout",
     "output_type": "stream",
     "text": [
      "1,76 €\n",
      "1,99 €\n",
      "3,30 €\n",
      "3,45 €\n",
      "1,99 €\n",
      "1,99 €\n",
      "1,00 €\n",
      "1,25 €\n",
      "2,00 €\n",
      "1,87 €\n",
      "1,79 €\n",
      "2,19 €\n",
      "1,48 €\n",
      "1,25 €\n",
      "1,00 €\n",
      "2,00 €\n",
      "2,15 €\n",
      "1,00 €\n",
      "1,39 €\n",
      "1,69 €\n",
      "2,29 €\n",
      "2,35 €\n",
      "2,00 €\n",
      "1,99 €\n",
      "2,00 €\n",
      "2,00 €\n",
      "1,99 €\n",
      "3,99 €\n",
      "2,25 €\n",
      "1,49 €\n",
      "1,99 €\n",
      "1,79 €\n",
      "2,25 €\n",
      "2,25 €\n",
      "1,99 €\n",
      "1,99 €\n",
      "2,39 €\n",
      "1,99 €\n",
      "2,06 €\n",
      "2,99 €\n",
      "2,29 €\n",
      "2,35 €\n",
      "2,00 €\n",
      "1,99 €\n",
      "2,00 €\n",
      "2,00 €\n",
      "1,99 €\n",
      "3,99 €\n",
      "2,25 €\n",
      "1,49 €\n",
      "1,99 €\n",
      "1,79 €\n",
      "2,25 €\n",
      "2,25 €\n",
      "1,99 €\n",
      "1,99 €\n",
      "2,39 €\n",
      "1,99 €\n",
      "2,06 €\n",
      "2,99 €\n",
      "1,75 €\n",
      "1,59 €\n",
      "1,99 €\n",
      "2,99 €\n",
      "1,90 €\n",
      "2,00 €\n",
      "2,00 €\n",
      "2,29 €\n",
      "4,09 €\n",
      "1,99 €\n",
      "2,00 €\n",
      "1,50 €\n",
      "1,00 €\n",
      "1,00 €\n"
     ]
    }
   ],
   "source": [
    "for prices in prices_selenium:\n",
    "    print(prices.text)"
   ]
  },
  {
   "cell_type": "code",
   "execution_count": 37,
   "metadata": {},
   "outputs": [
    {
     "ename": "TypeError",
     "evalue": "object of type 'WebElement' has no len()",
     "output_type": "error",
     "traceback": [
      "\u001b[1;31m---------------------------------------------------------------------------\u001b[0m",
      "\u001b[1;31mTypeError\u001b[0m                                 Traceback (most recent call last)",
      "Cell \u001b[1;32mIn[37], line 1\u001b[0m\n\u001b[1;32m----> 1\u001b[0m \u001b[38;5;28mprint\u001b[39m(\u001b[38;5;28mlen\u001b[39m(prices))\n",
      "\u001b[1;31mTypeError\u001b[0m: object of type 'WebElement' has no len()"
     ]
    }
   ],
   "source": [
    "print(len(prices))"
   ]
  },
  {
   "cell_type": "code",
   "execution_count": 60,
   "metadata": {},
   "outputs": [
    {
     "name": "stdout",
     "output_type": "stream",
     "text": [
      "RECETAS\n"
     ]
    }
   ],
   "source": [
    "bottom_element = driver.find_element(By.CSS_SELECTOR, \"[data-test-id='footer-webs-section-link']\")\n",
    "\n",
    "print(bottom_element.text)"
   ]
  },
  {
   "cell_type": "code",
   "execution_count": 56,
   "metadata": {},
   "outputs": [],
   "source": [
    "names_selenium = driver.find_elements(By.CLASS_NAME, \"search-product-card__product-name\")"
   ]
  },
  {
   "cell_type": "code",
   "execution_count": 61,
   "metadata": {},
   "outputs": [
    {
     "name": "stdout",
     "output_type": "stream",
     "text": [
      "Bacon en tiras Nuestra Alacena de Dia bandeja 2 x 100 g\n",
      "Jamón cocido extra bajo en sal Nuestra Alacena de Dia sobre 200 g\n",
      "Pechuga de pavo Nuestra Alacena de Dia sobre 2 x 200 g\n",
      "Jamón cocido extra Nuestra Alacena de Dia sobre 2 x 225 g\n",
      "Jamón cocido extra 97% carne Nuestra Alacena de Dia sobre 150 g\n",
      "Bacon en lonchas Nuestra Alacena de Dia sobre 200 g\n",
      "Pechuga de pavo braseado Campofrío sobre 75 g\n",
      "Mortadela con aceitunas Nuestra Alacena de Dia sobre 250 g\n",
      "Jamón cocido extra Elpozo 1954 sobre 150 g\n",
      "Pechuga de pavo bajo en sal Nuestra Alacena de Dia sobre 200 g\n"
     ]
    }
   ],
   "source": [
    "for name in names_selenium:\n",
    "    print(name.text)"
   ]
  },
  {
   "cell_type": "code",
   "execution_count": 33,
   "metadata": {},
   "outputs": [
    {
     "name": "stdout",
     "output_type": "stream",
     "text": [
      "20\n"
     ]
    }
   ],
   "source": [
    "print(len(names_selenium))"
   ]
  }
 ],
 "metadata": {
  "kernelspec": {
   "display_name": "base",
   "language": "python",
   "name": "python3"
  },
  "language_info": {
   "codemirror_mode": {
    "name": "ipython",
    "version": 3
   },
   "file_extension": ".py",
   "mimetype": "text/x-python",
   "name": "python",
   "nbconvert_exporter": "python",
   "pygments_lexer": "ipython3",
   "version": "3.11.4"
  }
 },
 "nbformat": 4,
 "nbformat_minor": 2
}
