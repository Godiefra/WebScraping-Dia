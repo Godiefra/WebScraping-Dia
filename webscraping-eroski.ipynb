{
 "cells": [
  {
   "cell_type": "markdown",
   "metadata": {},
   "source": [
    "# Webscrapping Eroski"
   ]
  },
  {
   "cell_type": "code",
   "execution_count": 1,
   "metadata": {},
   "outputs": [
    {
     "name": "stderr",
     "output_type": "stream",
     "text": [
      "c:\\Users\\diego\\anaconda3\\Lib\\site-packages\\pandas\\core\\arrays\\masked.py:60: UserWarning: Pandas requires version '1.3.6' or newer of 'bottleneck' (version '1.3.5' currently installed).\n",
      "  from pandas.core import (\n"
     ]
    }
   ],
   "source": [
    "import pandas as pd\n",
    "import sys\n",
    "import time\n",
    "sys.path.insert(0,'/usr/lib/chromium-browser/chromedriver')\n"
   ]
  },
  {
   "cell_type": "code",
   "execution_count": 5,
   "metadata": {},
   "outputs": [],
   "source": [
    "#Importamos SELENIUM\n",
    "\n",
    "from selenium import webdriver\n",
    "from selenium.webdriver.chrome.service import Service\n",
    "from selenium.webdriver.common.by import By\n",
    "from selenium import webdriver\n",
    "from selenium.webdriver.common.by import By\n",
    "from selenium.webdriver.support.ui import WebDriverWait\n",
    "from selenium.webdriver.support import expected_conditions as EC\n",
    "\n",
    "service = Service(r\"chromedriver-win64/chromedriver.exe\")\n",
    "options = webdriver.ChromeOptions()\n",
    "driver = webdriver.Chrome(service=service, options=options)\n",
    "\n",
    "url = \"https://supermercado.eroski.es/es/supermercado/2059806-alimentacion/2059988-aceite-vinagre-sal-harina-y-pan-rallado/\"\n",
    "\n",
    "driver.get(url)"
   ]
  },
  {
   "cell_type": "code",
   "execution_count": null,
   "metadata": {},
   "outputs": [],
   "source": [
    "from selenium.webdriver.common.by import By\n",
    "from selenium.webdriver.common.keys import Keys\n"
   ]
  },
  {
   "cell_type": "markdown",
   "metadata": {},
   "source": [
    "### Estructura del Xpath de Eroski"
   ]
  },
  {
   "cell_type": "markdown",
   "metadata": {},
   "source": [
    "Es una pagina DOM, por lo que habría que cargar hasta el final de la pagina para poder obtener todos los datos"
   ]
  },
  {
   "cell_type": "markdown",
   "metadata": {},
   "source": [
    "<img alt = 'alt'  src = 'resources/eroski1.png'>"
   ]
  },
  {
   "cell_type": "code",
   "execution_count": null,
   "metadata": {},
   "outputs": [],
   "source": [
    "# //*[@id=\"productListZone\"]/div[5]/div\n",
    "# //*[@id=\"productListZone\"]/div[6]/div\n",
    "# //*[@id=\"productListZone\"]/div[7]/div\n",
    "\n",
    "\n",
    "//*[@id=\"productListZone\"]/div[6]/div/div[4]/div[3]/div[2]/span[2]/span[2]\n",
    "//*[@id=\"productListZone\"]/div[7]/div/div[4]/div[3]/div[2]/span[2]/span[2]"
   ]
  },
  {
   "cell_type": "markdown",
   "metadata": {},
   "source": [
    "A priori sigue un orden ascendente conforme el primer div"
   ]
  },
  {
   "cell_type": "code",
   "execution_count": 7,
   "metadata": {},
   "outputs": [
    {
     "name": "stdout",
     "output_type": "stream",
     "text": [
      "Nombre:  Aceite de oliva 0,4º CARBONELL, botella 1 litro  Precio:  7,95\n"
     ]
    }
   ],
   "source": [
    "producto = driver.find_element(By.XPATH, '//*[@id=\"productListZone\"]/div[5]/div')\n",
    "\n",
    "name = producto.find_element(By.XPATH, '//*[@id=\"productListZone\"]/div[5]/div/div[3]/div[1]/h2[2]/a').text\n",
    "price = producto.find_element(By.XPATH, '//*[@id=\"productListZone\"]/div[5]/div/div[3]/div[2]/div[2]/span[2]/span[2]').text\n",
    "\n",
    "print(\"Nombre: \", name,\" Precio: \", price)"
   ]
  },
  {
   "cell_type": "code",
   "execution_count": 16,
   "metadata": {},
   "outputs": [],
   "source": [
    "# Función para desplazarse al final de la página\n",
    "def scroll_hasta_final(driver, espera=2):\n",
    "    ultima_altura = driver.execute_script(\"return document.body.scrollHeight\")\n",
    "    \n",
    "    while True:\n",
    "        # Desplazarse hacia el final de la página\n",
    "        driver.execute_script(\"window.scrollTo(0, document.body.scrollHeight);\")\n",
    "        \n",
    "        # Esperar para que se cargue el contenido\n",
    "        time.sleep(espera)\n",
    "        \n",
    "        # Calcular la nueva altura de la página después de cargar contenido\n",
    "        nueva_altura = driver.execute_script(\"return document.body.scrollHeight\")\n",
    "        \n",
    "        # Salir del bucle si no hay más contenido para cargar\n",
    "        if nueva_altura == ultima_altura:\n",
    "            break\n",
    "        ultima_altura = nueva_altura\n"
   ]
  },
  {
   "cell_type": "code",
   "execution_count": null,
   "metadata": {},
   "outputs": [],
   "source": [
    "names = []\n",
    "prices = []\n",
    "\n",
    "i = 5\n",
    "\n",
    "scroll_hasta_final(driver)\n",
    "\n",
    "while True:\n",
    "    try:\n",
    "        producto = driver.find_element(By.XPATH, f'//*[@id=\"productListZone\"]/div[{i}]/div')\n",
    "        name = producto.find_element(By.XPATH, f'//*[@id=\"productListZone\"]/div[{i}]/div/div[3]/div[1]/h2[2]/a').text\n",
    "        names.append(name)\n",
    "        try:\n",
    "            price = producto.find_element(By.XPATH, f'//*[@id=\"productListZone\"]/div[{i}]/div/div[3]/div[2]/div[2]/span[2]/span[2]').text\n",
    "            prices.append(price)\n",
    "            i += 1\n",
    "        except:\n",
    "            price = producto.find_element(By.XPATH, f'//*[@id=\"productListZone\"]/div[{i}]/div/div[3]/div[2]/div[2]/span[2]/span[2]').text\n",
    "            prices.append(price)\n",
    "            i += 1\n",
    "    except:\n",
    "        continue"
   ]
  },
  {
   "cell_type": "code",
   "execution_count": 13,
   "metadata": {},
   "outputs": [
    {
     "data": {
      "text/plain": [
       "['Aceite de oliva 0,4º CARBONELL, botella 1 litro',\n",
       " 'Aceite oliva virgen extra Hojiblanca COOSUR, botella 1 litro',\n",
       " 'Aceite de oliva 0,4º CARBONELL, garrafa 3 litros',\n",
       " 'Aceite oliva virgen extra Picual COOSUR, botella 1 litro',\n",
       " 'Aceite de oliva virgen extra HOJIBLANCA, botella 1 litro',\n",
       " 'Aceite de oliva virgen CARBONELL, botella 1 litro',\n",
       " 'Aceite oliva virgen extra Arbequina COOSUR, botella 1 litro',\n",
       " 'Aceite de oliva v. extra CARBONELL G. SELECCIÓN, botella 75 cl',\n",
       " 'Aceite de girasol KOIPESOL, botella 1 litro']"
      ]
     },
     "execution_count": 13,
     "metadata": {},
     "output_type": "execute_result"
    }
   ],
   "source": [
    "names"
   ]
  },
  {
   "cell_type": "code",
   "execution_count": 14,
   "metadata": {},
   "outputs": [
    {
     "data": {
      "text/plain": [
       "['7,95', '10,89', '21,95', '10,89', '13,25', '12,87', '10,89', '10,58', '2,55']"
      ]
     },
     "execution_count": 14,
     "metadata": {},
     "output_type": "execute_result"
    }
   ],
   "source": [
    "prices"
   ]
  },
  {
   "cell_type": "code",
   "execution_count": null,
   "metadata": {},
   "outputs": [],
   "source": []
  }
 ],
 "metadata": {
  "kernelspec": {
   "display_name": "base",
   "language": "python",
   "name": "python3"
  },
  "language_info": {
   "codemirror_mode": {
    "name": "ipython",
    "version": 3
   },
   "file_extension": ".py",
   "mimetype": "text/x-python",
   "name": "python",
   "nbconvert_exporter": "python",
   "pygments_lexer": "ipython3",
   "version": "3.11.4"
  }
 },
 "nbformat": 4,
 "nbformat_minor": 2
}
